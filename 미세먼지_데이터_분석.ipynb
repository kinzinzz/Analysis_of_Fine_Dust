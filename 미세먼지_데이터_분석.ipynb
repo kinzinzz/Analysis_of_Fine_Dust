{
  "nbformat": 4,
  "nbformat_minor": 0,
  "metadata": {
    "colab": {
      "provenance": [],
      "authorship_tag": "ABX9TyOTlbwtSUykkddui/X+2byN",
      "include_colab_link": true
    },
    "kernelspec": {
      "name": "python3",
      "display_name": "Python 3"
    },
    "language_info": {
      "name": "python"
    }
  },
  "cells": [
    {
      "cell_type": "markdown",
      "metadata": {
        "id": "view-in-github",
        "colab_type": "text"
      },
      "source": [
        "<a href=\"https://colab.research.google.com/github/kinzinzz/Analysis_of_Fine_Dust/blob/master/%EB%AF%B8%EC%84%B8%EB%A8%BC%EC%A7%80_%EB%8D%B0%EC%9D%B4%ED%84%B0_%EB%B6%84%EC%84%9D.ipynb\" target=\"_parent\"><img src=\"https://colab.research.google.com/assets/colab-badge.svg\" alt=\"Open In Colab\"/></a>"
      ]
    },
    {
      "cell_type": "code",
      "execution_count": null,
      "metadata": {
        "id": "GKQVVqacLg7z"
      },
      "outputs": [],
      "source": [
        "import warnings\n",
        "warnings.filterwarnings('ignore')\n",
        "import pandas as pd\n",
        "import numpy as np\n",
        "import seaborn as sns"
      ]
    },
    {
      "cell_type": "code",
      "source": [
        "#2013년 \n",
        "csv13_01 = pd.read_csv(\"2013년01분기.csv\")\n",
        "csv13_02 = pd.read_csv(\"2013년02분기.csv\")\n",
        "csv13_03 = pd.read_csv(\"2013년03분기.csv\")\n",
        "csv13_04 = pd.read_csv(\"2013년04분기.csv\")\n",
        "\n",
        "#2014년 \n",
        "csv14_01 = pd.read_csv(\"2014년 1분기.csv\", encoding='euc-kr')\n",
        "csv14_02 = pd.read_csv(\"2014년 2분기.csv\", encoding='euc-kr')\n",
        "csv14_03 = pd.read_csv(\"2014년 3분기.csv\", encoding='euc-kr')\n",
        "csv14_04 = pd.read_csv(\"2014년 4분기.csv\", encoding='euc-kr')\n",
        "\n",
        "#2015년 \n",
        "csv15_01 = pd.read_csv(\"2015년1분기.csv\")\n",
        "csv15_02 = pd.read_csv(\"2015년2분기.csv\")\n",
        "csv15_03 = pd.read_csv(\"2015년3분기.csv\")\n",
        "csv15_04 = pd.read_csv(\"2015년4분기.csv\")\n",
        "\n",
        "#2016년 \n",
        "csv16_01 = pd.read_csv(\"2016년 1분기.csv\", encoding='euc-kr')\n",
        "csv16_02 = pd.read_csv(\"2016년 2분기.csv\", encoding='euc-kr')\n",
        "csv16_03 = pd.read_csv(\"2016년 3분기.csv\", encoding='euc-kr')\n",
        "csv16_04 = pd.read_csv(\"2016년 4분기.csv\", encoding='euc-kr')\n",
        "\n",
        "#2017년 \n",
        "csv171 = pd.read_csv(\"2017년 1월.csv\")\n",
        "csv172 = pd.read_csv(\"2017년 2월.csv\")\n",
        "csv173 = pd.read_csv(\"2017년 3월.csv\")\n",
        "csv174 = pd.read_csv(\"2017년 4월.csv\")\n",
        "csv175 = pd.read_csv(\"2017년 5월.csv\")\n",
        "csv176 = pd.read_csv(\"2017년 6월.csv\")\n",
        "csv177 = pd.read_csv(\"2017년 7월.csv\")\n",
        "csv178 = pd.read_csv(\"2017년 8월.csv\")\n",
        "csv179 = pd.read_csv(\"2017년 9월.csv\")\n",
        "csv1710 = pd.read_csv(\"2017년 10월.csv\")\n",
        "csv1711 = pd.read_csv(\"2017년 11월.csv\")\n",
        "csv1712 = pd.read_csv(\"2017년 12월.csv\")\n",
        "\n",
        "#2018년 \n",
        "csv18_01 = pd.read_csv(\"2018년 1분기.csv\")\n",
        "csv18_02 = pd.read_csv(\"2018년 2분기.csv\")\n",
        "csv18_03 = pd.read_csv(\"2018년 3분기.csv\")\n",
        "csv18_04 = pd.read_csv(\"2018년 4분기.csv\")\n",
        "\n",
        "#2019년 \n",
        "csv191 = pd.read_csv(\"2019년 1월.csv\")\n",
        "csv192 = pd.read_csv(\"2019년 2월.csv\")\n",
        "csv193 = pd.read_csv(\"2019년 3월.csv\")\n",
        "csv194 = pd.read_csv(\"2019년 4월.csv\")\n",
        "csv195 = pd.read_csv(\"2019년 5월.csv\")\n",
        "csv196 = pd.read_csv(\"2019년 6월.csv\")\n",
        "csv197 = pd.read_csv(\"2019년 7월.csv\")\n",
        "csv198 = pd.read_csv(\"2019년 8월.csv\")\n",
        "csv199 = pd.read_csv(\"2019년 9월.csv\")\n",
        "csv1910 = pd.read_csv(\"2019년 10월.csv\")\n",
        "csv1911 = pd.read_csv(\"2019년 11월.csv\")\n",
        "csv1912 = pd.read_csv(\"2019년 12월.csv\")\n",
        "\n",
        "#2020년 \n",
        "csv201 = pd.read_csv(\"2020년 1월.csv\")\n",
        "csv202 = pd.read_csv(\"2020년 2월.csv\")\n",
        "csv203 = pd.read_csv(\"2020년 3월.csv\")\n",
        "csv204 = pd.read_csv(\"2020년 4월.csv\")\n",
        "csv205 = pd.read_csv(\"2020년 5월.csv\")\n",
        "csv206 = pd.read_csv(\"2020년 6월.csv\")\n",
        "csv207 = pd.read_csv(\"2020년 7월.csv\")\n",
        "csv208 = pd.read_csv(\"2020년 8월.csv\")\n",
        "csv209 = pd.read_csv(\"2020년 9월.csv\")\n",
        "csv2010 = pd.read_csv(\"2020년 10월.csv\")\n",
        "csv2011 = pd.read_csv(\"2020년 11월.csv\")\n",
        "csv2012 = pd.read_csv(\"2020년 12월.csv\")"
      ],
      "metadata": {
        "id": "-35aw3tALslv"
      },
      "execution_count": null,
      "outputs": []
    },
    {
      "cell_type": "markdown",
      "source": [
        "#  2. 데이터 확인 및 결합하기\n",
        "데이터의 크기를 읽어내고, 데이터의 전체적인 모습을 확인한다.\n",
        "월별 데이터를 연간 데이터로 결합한다.\n",
        "데이터에서 불필요한 열 부분을 없앤다.\n",
        "\n",
        "가. concat\n",
        "데이터간의 세로결합(유니언)을 하기 위해 사용된다.\n",
        "ignore_index : 2개이상의 데이터간의 결합시에 기존 인덱스가 있어 전체적으로 봤을 때 순서상 안 맞는 경우가 있는데, 초기화를 하고 다시 인덱스를 설정한다.\n",
        "\n",
        "나. drop\n",
        "drop([\"없애고 싶은 열\"])\n",
        "axis = 1이면 세로로 제거를 한다는 뜻임\n",
        "inplace : 변수를 만들고 값을 할당해줘야 하는데, 이것은 굳이 변수를 만들필요 없이, 기존의 데이터를 수정하게 함\n",
        "\n",
        "<설명>\n",
        "월별 csv파일을 연별 데이터로 만들려고 한다. 그러기 위해서는 세로로 결합을 해야하기에 concat()을 이용하여 결합한다. 그리고 index를 초기화하기 위해 ignore_index = True를 해준다.\n",
        "print()를 해주는 이유는 jupyter는 항상 마지막 값만 출력되기에 연속적으로 데이터를 보이기위해 사용함\n",
        "csv1x.head()를 통해 상위 5개의 데이터를 보여줌\n",
        "데이터프레임에 Unnamed : 0 이름을 열이 있으면 이것을 제거 시켜줘야하므로 drop을 통해 없애준다"
      ],
      "metadata": {
        "id": "LHDj5Rq2LxfD"
      }
    },
    {
      "cell_type": "code",
      "source": [
        "#13년 데이터 합치기\n",
        "csv13 = pd.concat([csv13_01, csv13_02, csv13_03, csv13_04], ignore_index = True)\n",
        "print(csv13.head())\n",
        "csv13.drop([\"Unnamed: 0\"], axis=1, inplace =True)\n",
        "\n",
        "#14년 데이터 합치기\n",
        "csv14 = pd.concat([csv14_01, csv14_02, csv14_03, csv14_04], ignore_index = True)\n",
        "print(csv14.head())\n",
        "\n",
        "#15년 데이터 합치기\n",
        "csv15 = pd.concat([csv15_01, csv15_02, csv15_03, csv15_04], ignore_index = True)\n",
        "print(csv15.head())\n",
        "\n",
        "#16년 데이터 합치기\n",
        "csv16 = pd.concat([csv16_01, csv16_02, csv16_03, csv16_04], ignore_index = True)\n",
        "print(csv16.head())\n",
        "\n",
        "#17년 데이터 합치기\n",
        "csv17 = pd.concat([csv171, csv172, csv173, csv174, csv175, csv176, csv177, csv178, csv179, csv1710, csv1711, csv1712], ignore_index = True)\n",
        "csv17.drop([\"Unnamed: 0\"], axis=1, inplace =True)\n",
        "print(csv17.head())\n",
        "\n",
        "#18년 데이터 합치기\n",
        "csv18 = pd.concat([csv18_01, csv18_02, csv18_03, csv18_04], ignore_index = True)\n",
        "csv18.drop([\"Unnamed: 0\"], axis=1, inplace =True)\n",
        "print(csv18.head())\n",
        "\n",
        "#19년 데이터 합치기\n",
        "csv19 = pd.concat([csv191, csv192, csv193, csv194, csv195, csv196, csv197, csv198, csv199, csv1910, csv1911, csv1912], ignore_index = True)\n",
        "csv19.drop([\"Unnamed: 0\"], axis=1, inplace =True)\n",
        "print(csv19.head())\n",
        "\n",
        "#20년 데이터 합치기\n",
        "csv20 = pd.concat([csv201, csv202, csv203, csv204, csv205, csv206, csv207, csv208, csv209, csv2010, csv2011, csv2012], ignore_index = True)\n",
        "csv20.drop([\"Unnamed: 0\"], axis=1, inplace =True)\n",
        "print(csv20.head())"
      ],
      "metadata": {
        "id": "aiKe7v4KLsw3"
      },
      "execution_count": null,
      "outputs": []
    },
    {
      "cell_type": "markdown",
      "source": [
        "# 3. 원하는 지역을 키워드를 이용하여 불러오자\n",
        "str : 문자열을 의미함\n",
        "contains() : 괄호 안에 있는 내용을 불리언(True, False)으로 표시함\n",
        "\n",
        "<csv13으로 설명>\n",
        "csv13에서 지역이라는 열안에 있는 값중에 문자열이며 부산이라고 적혀져있는 해당 열들을 불러오고 있으면 True, 없으면 False로 표시한 다음 csv13[True]가 되면 해당 True부분이 있는 행들을 다 불러오게됨\n",
        "csv13.reset_index에서 drop=True는 인덱스를 초기화할 때 기존의 인덱스를 삭제한다는 의미이며, inplace를 통해 굳이 변수를 할당해줄 필요가 없음"
      ],
      "metadata": {
        "id": "gH-hRR3qL2JV"
      }
    },
    {
      "cell_type": "code",
      "source": [
        "csv13 = csv13[csv13['지역'].str.contains('부산')]\n",
        "csv14 = csv14[csv14['지역'].str.contains('부산')]\n",
        "csv15 = csv15[csv15['지역'].str.contains('부산')]\n",
        "csv16 = csv16[csv16['지역'].str.contains('부산')]\n",
        "csv17 = csv17[csv17['지역'].str.contains('부산')]\n",
        "csv18 = csv18[csv18['지역'].str.contains('부산')]\n",
        "csv19 = csv19[csv19['지역'].str.contains('부산')]\n",
        "csv20 = csv20[csv20['지역'].str.contains('부산')]\n",
        "\n",
        "csv13.reset_index(drop = True, inplace=True)\n",
        "csv14.reset_index(drop = True, inplace=True)\n",
        "csv15.reset_index(drop = True, inplace=True)\n",
        "csv16.reset_index(drop = True, inplace=True)\n",
        "csv17.reset_index(drop = True, inplace=True)\n",
        "csv18.reset_index(drop = True, inplace=True)\n",
        "csv19.reset_index(drop = True, inplace=True)\n",
        "csv20.reset_index(drop = True, inplace=True)"
      ],
      "metadata": {
        "id": "pXRjI0ptLs6W"
      },
      "execution_count": null,
      "outputs": []
    },
    {
      "cell_type": "code",
      "source": [
        "csv13_PM10 = csv13[[\"지역\", \"측정일시\", \"PM10\"]]\n",
        "csv14_PM10 = csv14[[\"지역\", \"측정일시\", \"PM10\"]]\n",
        "csv15_PM10 = csv15[[\"지역\", \"측정일시\", \"PM10\"]]\n",
        "csv16_PM10 = csv16[[\"지역\", \"측정일시\", \"PM10\"]]\n",
        "csv17_PM10 = csv17[[\"지역\", \"측정일시\", \"PM10\"]]\n",
        "csv18_PM10 = csv18[[\"지역\", \"측정일시\", \"PM10\"]]\n",
        "csv19_PM10 = csv19[[\"지역\", \"측정일시\", \"PM10\"]]\n",
        "csv20_PM10 = csv20[[\"지역\", \"측정일시\", \"PM10\"]]\n",
        "\n",
        "#2013년 초미세먼지데이터는 없음\n",
        "csv14_PM25 = csv14[[\"지역\", \"측정일시\", \"PM25\"]]\n",
        "csv15_PM25 = csv15[[\"지역\", \"측정일시\", \"PM25\"]]\n",
        "csv16_PM25 = csv16[[\"지역\", \"측정일시\", \"PM25\"]]\n",
        "csv17_PM25 = csv17[[\"지역\", \"측정일시\", \"PM25\"]]\n",
        "csv18_PM25 = csv18[[\"지역\", \"측정일시\", \"PM25\"]]\n",
        "csv19_PM25 = csv19[[\"지역\", \"측정일시\", \"PM25\"]]\n",
        "csv20_PM25 = csv20[[\"지역\", \"측정일시\", \"PM25\"]]\n",
        "\n",
        "csv13_PM10.head()"
      ],
      "metadata": {
        "id": "Zd_msvJ6L6xO"
      },
      "execution_count": null,
      "outputs": []
    },
    {
      "cell_type": "markdown",
      "source": [
        "# 4. 부산의 구와 군이 모두 있는지 확인하자\n",
        "부산엔 15개(중구, 서구, 동구, 영도구, 부산진구, 동래구, 남구, 북구, 해운대구, 사하구, 금정구, 강서구, 연제구, 수영구, 사상구)의 구와 1개(기장군)의 군으로 총 16개의 행정구역으로 이루어져 있다.\n",
        "\n",
        "가) unique()\n",
        "중복되는 문항을 제거한다. 그래서 해당 열내에 어떤 값으로 이뤄져 있는지를 확인할 수 있다.\n",
        "\n",
        "<설명>\n",
        "알아보기 쉽게 부산의 행정구역을 변수로 구분해준다음, 변수에 unique()를 사용하여 중복되는 항목을 제거 한다. 그러면 전체의 구와 군의 개수를 알 수 있다.\n",
        "2013년은 초미세먼지데이터가 존재하지 않기에 이 데이터는 제외시킨다"
      ],
      "metadata": {
        "id": "2g-blg5OL8j6"
      }
    },
    {
      "cell_type": "code",
      "source": [
        "csv_13_busan_PM10 = csv13_PM10[\"지역\"].unique()\n",
        "csv_14_busan_PM10 = csv14_PM10[\"지역\"].unique()\n",
        "csv_15_busan_PM10 = csv15_PM10[\"지역\"].unique()\n",
        "csv_16_busan_PM10 = csv16_PM10[\"지역\"].unique()\n",
        "csv_17_busan_PM10 = csv17_PM10[\"지역\"].unique()\n",
        "csv_18_busan_PM10 = csv18_PM10[\"지역\"].unique()\n",
        "csv_19_busan_PM10 = csv19_PM10[\"지역\"].unique()\n",
        "csv_20_busan_PM10 = csv20_PM10[\"지역\"].unique()\n",
        "\n",
        "csv_14_busan_PM25 = csv14_PM25[\"지역\"].unique()\n",
        "csv_15_busan_PM25 = csv15_PM25[\"지역\"].unique()\n",
        "csv_16_busan_PM25 = csv16_PM25[\"지역\"].unique()\n",
        "csv_17_busan_PM25 = csv17_PM25[\"지역\"].unique()\n",
        "csv_18_busan_PM25 = csv18_PM25[\"지역\"].unique()\n",
        "csv_19_busan_PM25 = csv19_PM25[\"지역\"].unique()\n",
        "csv_20_busan_PM25 = csv20_PM25[\"지역\"].unique()\n",
        "\n",
        "print(len(csv_13_busan_PM10))\n",
        "print(len(csv_14_busan_PM10))\n",
        "print(len(csv_15_busan_PM10))\n",
        "print(len(csv_16_busan_PM10))\n",
        "print(len(csv_17_busan_PM10))\n",
        "print(len(csv_18_busan_PM10))\n",
        "print(len(csv_19_busan_PM10))\n",
        "print(len(csv_20_busan_PM10))\n",
        "\n",
        "print(len(csv_14_busan_PM25))\n",
        "print(len(csv_15_busan_PM25))\n",
        "print(len(csv_16_busan_PM25))\n",
        "print(len(csv_17_busan_PM25))\n",
        "print(len(csv_18_busan_PM25))\n",
        "print(len(csv_19_busan_PM25))\n",
        "print(len(csv_20_busan_PM25))"
      ],
      "metadata": {
        "id": "paF9ytefL7vU"
      },
      "execution_count": null,
      "outputs": []
    },
    {
      "cell_type": "code",
      "source": [
        "csv_13_busan_PM10"
      ],
      "metadata": {
        "id": "gItSsPzkL_19"
      },
      "execution_count": null,
      "outputs": []
    },
    {
      "cell_type": "markdown",
      "source": [
        "# 5. 각 연도별 데이터의 결측값을 확인하자\n",
        "가) isnull()\n",
        "해당 데이터프레임내에 결측값의 유무를 불리언(True/false)로 표기\n",
        "\n",
        "나) sum()\n",
        "값의 합\n",
        "\n",
        "다) dropna()\n",
        "결측치가 있는 행 또는 열방향으로 제거를 함\n",
        "axis = 0이면 가로방향으로 데이터를 제거를 하고 axis = 1이면 세로방향으로 제거를 함\n",
        "\n",
        "<설명>\n",
        "먼저 미세먼지 데이터(2013년 ~ 2020년)데이터와 초미세먼지 데이터(2014 ~2020년의 결측값을 확인하고 dropna를 이용하여 미세먼지 또는 초미세먼지결측값이 있는 행들을 제거시킨다. 지역과 측정일시는 전부 존재하기 dropna를 사용하여 결측값을 제거하였다.\n",
        "그런 다음 데이터의 결측값을 유무를 최종확인한다."
      ],
      "metadata": {
        "id": "FjJudVSVMDK6"
      }
    },
    {
      "cell_type": "code",
      "source": [
        "print(\"미세먼지데이터\")\n",
        "print(\"2013년 부산데이터\")\n",
        "print(csv13_PM10.isnull().sum())\n",
        "print(\"\")\n",
        "print(\"2014년 부산데이터\")\n",
        "print(csv14_PM10.isnull().sum())\n",
        "print(\"\")\n",
        "print(\"2015년 부산데이터\")\n",
        "print(csv15_PM10.isnull().sum())\n",
        "print(\"\")\n",
        "print(\"2016년 부산데이터\")\n",
        "print(csv16_PM10.isnull().sum())\n",
        "print(\"\")\n",
        "print(\"2017년 부산데이터\")\n",
        "print(csv17_PM10.isnull().sum())\n",
        "print(\"\")\n",
        "print(\"2018년 부산데이터\")\n",
        "print(csv18_PM10.isnull().sum())\n",
        "print(\"\")\n",
        "print(\"2019년 부산데이터\")\n",
        "print(csv19_PM10.isnull().sum())\n",
        "print(\"\")\n",
        "print(\"2020년 부산데이터\")\n",
        "print(csv20_PM10.isnull().sum())\n",
        "print(\"\")\n",
        "print(\"\")\n",
        "\n",
        "print(\"초미세먼지데이터\")\n",
        "print(\"2014년 부산데이터\")\n",
        "print(csv14_PM25.isnull().sum())\n",
        "print(\"\")\n",
        "print(\"2015년 부산데이터\")\n",
        "print(csv15_PM25.isnull().sum())\n",
        "print(\"\")\n",
        "print(\"2016년 부산데이터\")\n",
        "print(csv16_PM25.isnull().sum())\n",
        "print(\"\")\n",
        "print(\"2017년 부산데이터\")\n",
        "print(csv17_PM25.isnull().sum())\n",
        "print(\"\")\n",
        "print(\"2018년 부산데이터\")\n",
        "print(csv18_PM25.isnull().sum())\n",
        "print(\"\")\n",
        "print(\"2019년 부산데이터\")\n",
        "print(csv19_PM25.isnull().sum())\n",
        "print(\"\")\n",
        "print(\"2020년 부산데이터\")\n",
        "print(csv20_PM25.isnull().sum())"
      ],
      "metadata": {
        "id": "TwkjdPdLMBhq"
      },
      "execution_count": null,
      "outputs": []
    },
    {
      "cell_type": "code",
      "source": [
        "csv13_PM10.dropna(axis=0, inplace = True)\n",
        "csv14_PM10.dropna(axis=0, inplace = True)\n",
        "csv15_PM10.dropna(axis=0, inplace = True)\n",
        "csv16_PM10.dropna(axis=0, inplace = True)\n",
        "csv17_PM10.dropna(axis=0, inplace = True)\n",
        "csv18_PM10.dropna(axis=0, inplace = True)\n",
        "csv19_PM10.dropna(axis=0, inplace = True)\n",
        "csv20_PM10.dropna(axis=0, inplace = True)\n",
        "\n",
        "csv14_PM25.dropna(axis=0, inplace = True)\n",
        "csv15_PM25.dropna(axis=0, inplace = True)\n",
        "csv16_PM25.dropna(axis=0, inplace = True)\n",
        "csv17_PM25.dropna(axis=0, inplace = True)\n",
        "csv18_PM25.dropna(axis=0, inplace = True)\n",
        "csv19_PM25.dropna(axis=0, inplace = True)\n",
        "csv20_PM25.dropna(axis=0, inplace = True)"
      ],
      "metadata": {
        "id": "XTBxRewKMMbt"
      },
      "execution_count": null,
      "outputs": []
    },
    {
      "cell_type": "code",
      "source": [
        "print(\"미세먼지데이터\")\n",
        "print(\"2013년 부산데이터\")\n",
        "print(csv13_PM10.isnull().sum())\n",
        "print(\"\")\n",
        "print(\"2014년 부산데이터\")\n",
        "print(csv14_PM10.isnull().sum())\n",
        "print(\"\")\n",
        "print(\"2015년 부산데이터\")\n",
        "print(csv15_PM10.isnull().sum())\n",
        "print(\"\")\n",
        "print(\"2016년 부산데이터\")\n",
        "print(csv16_PM10.isnull().sum())\n",
        "print(\"\")\n",
        "print(\"2017년 부산데이터\")\n",
        "print(csv17_PM10.isnull().sum())\n",
        "print(\"\")\n",
        "print(\"2018년 부산데이터\")\n",
        "print(csv18_PM10.isnull().sum())\n",
        "print(\"\")\n",
        "print(\"2019년 부산데이터\")\n",
        "print(csv19_PM10.isnull().sum())\n",
        "print(\"\")\n",
        "print(\"2020년 부산데이터\")\n",
        "print(csv20_PM10.isnull().sum())\n",
        "print(\"\")\n",
        "print(\"\")\n",
        "\n",
        "print(\"초미세먼지데이터\")\n",
        "print(\"2014년 부산데이터\")\n",
        "print(csv14_PM25.isnull().sum())\n",
        "print(\"\")\n",
        "print(\"2015년 부산데이터\")\n",
        "print(csv15_PM25.isnull().sum())\n",
        "print(\"\")\n",
        "print(\"2016년 부산데이터\")\n",
        "print(csv16_PM25.isnull().sum())\n",
        "print(\"\")\n",
        "print(\"2017년 부산데이터\")\n",
        "print(csv17_PM25.isnull().sum())\n",
        "print(\"\")\n",
        "print(\"2018년 부산데이터\")\n",
        "print(csv18_PM25.isnull().sum())\n",
        "print(\"\")\n",
        "print(\"2019년 부산데이터\")\n",
        "print(csv19_PM25.isnull().sum())\n",
        "print(\"\")\n",
        "print(\"2020년 부산데이터\")\n",
        "print(csv20_PM25.isnull().sum())"
      ],
      "metadata": {
        "id": "WrpBpIxiMOAH"
      },
      "execution_count": null,
      "outputs": []
    },
    {
      "cell_type": "markdown",
      "source": [
        "# 6. 연도별 데이터내에 측정일시를 월로 바꾸자\n",
        "가) astype()\n",
        "특정열에 있는 모든 값의 형식을 바꾼다.(str : 문자형태, int : 정수형태, float : 소수형태)\n",
        "\n",
        "나) str[:]\n",
        "예로 들어 str[4:6]이면 (4+1~6)로 2013010101에서 5~6번째 값만 들고온다. 컴퓨터는 0부터 시작하기에 맨 앞의 숫자는 +1이 된다\n",
        "\n",
        "<csv13_PM10으로 설명>\n",
        "csv13_PM데이터프레임에 월별이라는 열을 새로 추가하여 문자열로 변화된 측정일시 데이터를 넣어준다. 그런 다음 월별데이터에서 5~6번째 문자인 01~12까지 총 12개만 불러와서 월에 따른 값들이 기입된다.\n",
        "제대로 기입이 되었는지 확인한다."
      ],
      "metadata": {
        "id": "ZAM8F4mYMSAT"
      }
    },
    {
      "cell_type": "code",
      "source": [
        "csv13_PM10[\"월별\"] = csv13_PM10[\"측정일시\"].astype(str)\n",
        "csv13_PM10[\"월별\"] = csv13_PM10[\"월별\"].str[4:6]\n",
        "csv13_PM10 = csv13_PM10[[\"지역\",\"월별\",\"PM10\"]]\n",
        "\n",
        "csv14_PM10[\"월별\"] = csv14_PM10[\"측정일시\"].astype(str)\n",
        "csv14_PM10[\"월별\"] = csv14_PM10[\"월별\"].str[4:6]\n",
        "csv14_PM10 = csv14_PM10[[\"지역\",\"월별\",\"PM10\"]]\n",
        "\n",
        "csv15_PM10[\"월별\"] = csv15_PM10[\"측정일시\"].astype(str)\n",
        "csv15_PM10[\"월별\"] = csv15_PM10[\"월별\"].str[4:6]\n",
        "csv15_PM10 = csv15_PM10[[\"지역\",\"월별\",\"PM10\"]]\n",
        "\n",
        "csv16_PM10[\"월별\"] = csv16_PM10[\"측정일시\"].astype(str)\n",
        "csv16_PM10[\"월별\"] = csv16_PM10[\"월별\"].str[4:6]\n",
        "csv16_PM10 = csv16_PM10[[\"지역\",\"월별\",\"PM10\"]]\n",
        "\n",
        "csv17_PM10[\"월별\"] = csv17_PM10[\"측정일시\"].astype(str)\n",
        "csv17_PM10[\"월별\"] = csv17_PM10[\"월별\"].str[4:6]\n",
        "csv17_PM10 = csv17_PM10[[\"지역\",\"월별\",\"PM10\"]]\n",
        "\n",
        "csv18_PM10[\"월별\"] = csv18_PM10[\"측정일시\"].astype(str)\n",
        "csv18_PM10[\"월별\"] = csv18_PM10[\"월별\"].str[4:6]\n",
        "csv18_PM10 = csv18_PM10[[\"지역\",\"월별\",\"PM10\"]]\n",
        "\n",
        "csv19_PM10[\"월별\"] = csv19_PM10[\"측정일시\"].astype(str)\n",
        "csv19_PM10[\"월별\"] = csv19_PM10[\"월별\"].str[4:6]\n",
        "csv19_PM10 = csv19_PM10[[\"지역\",\"월별\",\"PM10\"]]\n",
        "\n",
        "csv20_PM10[\"월별\"] = csv20_PM10[\"측정일시\"].astype(str)\n",
        "csv20_PM10[\"월별\"] = csv20_PM10[\"월별\"].str[4:6]\n",
        "csv20_PM10 = csv20_PM10[[\"지역\",\"월별\",\"PM10\"]]\n",
        "\n",
        "csv14_PM25[\"월별\"] = csv14_PM25[\"측정일시\"].astype(str)\n",
        "csv14_PM25[\"월별\"] = csv14_PM25[\"월별\"].str[4:6]\n",
        "csv14_PM25 = csv14_PM25[[\"지역\",\"월별\",\"PM25\"]]\n",
        "\n",
        "csv15_PM25[\"월별\"] = csv15_PM25[\"측정일시\"].astype(str)\n",
        "csv15_PM25[\"월별\"] = csv15_PM25[\"월별\"].str[4:6]\n",
        "csv15_PM25 = csv15_PM25[[\"지역\",\"월별\",\"PM25\"]]\n",
        "\n",
        "csv16_PM25[\"월별\"] = csv16_PM25[\"측정일시\"].astype(str)\n",
        "csv16_PM25[\"월별\"] = csv16_PM25[\"월별\"].str[4:6]\n",
        "csv16_PM25 = csv16_PM25[[\"지역\",\"월별\",\"PM25\"]]\n",
        "\n",
        "csv17_PM25[\"월별\"] = csv17_PM25[\"측정일시\"].astype(str)\n",
        "csv17_PM25[\"월별\"] = csv17_PM25[\"월별\"].str[4:6]\n",
        "csv17_PM25 = csv17_PM25[[\"지역\",\"월별\",\"PM25\"]]\n",
        "\n",
        "csv18_PM25[\"월별\"] = csv18_PM25[\"측정일시\"].astype(str)\n",
        "csv18_PM25[\"월별\"] = csv18_PM25[\"월별\"].str[4:6]\n",
        "csv18_PM25 = csv18_PM25[[\"지역\",\"월별\",\"PM25\"]]\n",
        "\n",
        "csv19_PM25[\"월별\"] = csv19_PM25[\"측정일시\"].astype(str)\n",
        "csv19_PM25[\"월별\"] = csv19_PM25[\"월별\"].str[4:6]\n",
        "csv19_PM25 = csv19_PM25[[\"지역\",\"월별\",\"PM25\"]]\n",
        "\n",
        "csv20_PM25[\"월별\"] = csv20_PM25[\"측정일시\"].astype(str)\n",
        "csv20_PM25[\"월별\"] = csv20_PM25[\"월별\"].str[4:6]\n",
        "csv20_PM25 = csv20_PM25[[\"지역\",\"월별\",\"PM25\"]]"
      ],
      "metadata": {
        "id": "rxGFxh9EMQEn"
      },
      "execution_count": null,
      "outputs": []
    },
    {
      "cell_type": "code",
      "source": [
        "print(csv13_PM10.head())\n",
        "print(csv14_PM10.head())\n",
        "print(csv15_PM10.head())\n",
        "print(csv16_PM10.head())\n",
        "print(csv17_PM10.head())\n",
        "print(csv18_PM10.head())\n",
        "print(csv19_PM10.head())\n",
        "print(csv20_PM10.head())\n",
        "\n",
        "print(csv14_PM25.head())\n",
        "print(csv15_PM25.head())\n",
        "print(csv16_PM25.head())\n",
        "print(csv17_PM25.head())\n",
        "print(csv18_PM25.head())\n",
        "print(csv19_PM25.head())\n",
        "print(csv20_PM25.head())"
      ],
      "metadata": {
        "id": "8myw2EvTMQSk"
      },
      "execution_count": null,
      "outputs": []
    },
    {
      "cell_type": "code",
      "source": [
        "csv13_PM10.head()"
      ],
      "metadata": {
        "id": "bup0U-g4MQa-"
      },
      "execution_count": null,
      "outputs": []
    },
    {
      "cell_type": "markdown",
      "source": [
        "# 7. 전처리 마무리전 월별 데이터를 그래프로 나타내보자\n",
        "가) pyplot(plt)\n",
        "Majtplotlib에서 지원하는 모듈 중 하나이다.\n",
        "pyplot은 사용환경 인터페이스를 제공한다.\n",
        "pyplot의 인터페이스는 겉으로는 드러나지 않으면서 자동으로 figure와 axes를 생성하며, 정의된 플롯을 얻을 수 있도록 만들어 준다.\n",
        "\n",
        "나) figure()\n",
        "새로운 figure을 만들어준다.\n",
        "figure()에서 ()안에 figsize = ( 가로길이, 세로길이 )를 통해 크기를 설정해줄 수 있다\n",
        "\n",
        "다) lineplot()\n",
        "seaborn라이브러리에서 사용하는 것으로 lineplot(x='설정해주고 싶은 x열', y=\"설정해주고 싶은 y열', data=해당데이터프레임, label = '범례에 넣을 이름')을 이용하여 선그래프를 그린다.\n",
        "\n",
        "라) legend()\n",
        "pyplot모듈을 이용하여 legend()즉 범례를 그래프에 넣는다.\n",
        "\n",
        "마) set_context()\n",
        "seaborn라이브러리에서 사용하는 것으로 figure내에 크기를 조절을 하는데 사용한다. 크기는 paper, talk, poster순으로 커지며, \"font_scale = 조절할 크기\"를 통해서도 폰트를 조절가능하다.\n",
        "\n",
        "바) xticks()\n",
        "pyplot모듈에서 사용하는 것으로 x축에 있는 축제목을 변경시킬 수 있다. 여기서 \"rotation = 회전시킬 각도\"을 통해 각도변경도 가능하다.\n",
        "\n",
        "<설명>\n",
        "한글을 사용하기위해 폰트를 불러온다.\n",
        "그래프내에 세부적인 설정을 하고 2014~2020년까지 PM10의 선그래프를 그린다."
      ],
      "metadata": {
        "id": "Nqg9xj53MbMj"
      }
    },
    {
      "cell_type": "code",
      "source": [
        "import matplotlib.pyplot as plt\n",
        "plt.rc('font',family='Malgun Gothic')\n",
        "from IPython.display import set_matplotlib_formats\n",
        "set_matplotlib_formats('retina')\n",
        "\n",
        "plt.figure(figsize = (12,10))\n",
        "\n",
        "sns.lineplot(x='월별',y='PM10',data = csv13_PM10, label = \"2013\")\n",
        "sns.lineplot(x='월별',y='PM10',data = csv14_PM10, label = \"2014\")\n",
        "sns.lineplot(x='월별',y='PM10',data = csv15_PM10, label = \"2015\")\n",
        "sns.lineplot(x='월별',y='PM10',data = csv16_PM10, label = \"2016\")\n",
        "sns.lineplot(x='월별',y='PM10',data = csv17_PM10, label = \"2017\")\n",
        "sns.lineplot(x='월별',y='PM10',data = csv18_PM10, label = \"2018\")\n",
        "sns.lineplot(x='월별',y='PM10',data = csv19_PM10, label = \"2019\")\n",
        "sns.lineplot(x='월별',y='PM10',data = csv20_PM10, label = \"2020\")\n",
        "\n",
        "plt.legend()\n",
        "sns.set_context('poster', font_scale = 1) #seaborn의 크기를 조절하는데 paper, talk, poster순으로 크다.\n",
        "\n",
        "plt.xticks(rotation=90)"
      ],
      "metadata": {
        "id": "E6-YAsjOMZw6"
      },
      "execution_count": null,
      "outputs": []
    }
  ]
}